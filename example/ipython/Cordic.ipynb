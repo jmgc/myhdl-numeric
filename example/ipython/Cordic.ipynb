{
 "cells": [
  {
   "cell_type": "markdown",
   "metadata": {},
   "source": [
    "Author: Jose M. Gomez\n",
    "\n",
    "# Introduction\n",
    "\n",
    "The present document describes an implementation made of the cordic algorithm using the [myhdl-numeric](https://github.com/jmgc/myhdl-numeric). The implementation uses shift an add approach to reduce the resources required."
   ]
  },
  {
   "cell_type": "markdown",
   "metadata": {},
   "source": [
    "# CORDIC theory\n",
    "\n",
    "The CORDIC theory is described in the paper by [Meher et al.](http://eprints.soton.ac.uk/267873/1/tcas1_cordic_review.pdf):"
   ]
  },
  {
   "cell_type": "code",
   "execution_count": 1,
   "metadata": {
    "collapsed": false
   },
   "outputs": [],
   "source": [
    "from IPython.display import Latex\n",
    "import sympy as sp\n",
    "\n",
    "def equation(name, var):\n",
    "    return Latex(r'\\begin{equation} ' + name +\n",
    "                 ' = ' + sp.latex(var) + r'\\end{equation}')"
   ]
  },
  {
   "cell_type": "markdown",
   "metadata": {},
   "source": [
    "The CORDIC algorithm provides a method to calculate rotations:"
   ]
  },
  {
   "cell_type": "code",
   "execution_count": 2,
   "metadata": {
    "collapsed": false
   },
   "outputs": [
    {
     "data": {
      "text/latex": [
       "\\begin{equation} R = \\left[\\begin{matrix}\\cos{\\left (\\theta \\right )} & - \\sin{\\left (\\theta \\right )}\\\\\\sin{\\left (\\theta \\right )} & \\cos{\\left (\\theta \\right )}\\end{matrix}\\right]\\end{equation}"
      ],
      "text/plain": [
       "<IPython.core.display.Latex object>"
      ]
     },
     "execution_count": 2,
     "metadata": {},
     "output_type": "execute_result"
    }
   ],
   "source": [
    "sp.var('theta')\n",
    "\n",
    "R = sp.Matrix([[sp.cos(theta), -sp.sin(theta)], [sp.sin(theta), sp.cos(theta)]])\n",
    "\n",
    "equation('R', R)"
   ]
  },
  {
   "cell_type": "markdown",
   "metadata": {},
   "source": [
    "Scaling R by $\\frac{1}{cos\\left( \\theta \\right)}$, the new pseudo-rotation matrix $\\left( R_c \\right)$ becomes:"
   ]
  },
  {
   "cell_type": "code",
   "execution_count": 3,
   "metadata": {
    "collapsed": false
   },
   "outputs": [
    {
     "data": {
      "text/latex": [
       "\\begin{equation} R_c = \\left[\\begin{matrix}1 & - \\tan{\\left (\\theta \\right )}\\\\\\tan{\\left (\\theta \\right )} & 1\\end{matrix}\\right]\\end{equation}"
      ],
      "text/plain": [
       "<IPython.core.display.Latex object>"
      ]
     },
     "execution_count": 3,
     "metadata": {},
     "output_type": "execute_result"
    }
   ],
   "source": [
    "R_c = (((1/sp.cos(theta))*R).applyfunc(sp.trigsimp))\n",
    "\n",
    "equation('R_c', R_c)"
   ]
  },
  {
   "cell_type": "markdown",
   "metadata": {},
   "source": [
    "If the rotations are applied iteratively, with a succesive approximation for the angle, it is possible to get the desired rotation. For this, the $\\alpha \\left( i \\right)$ is defined as:"
   ]
  },
  {
   "cell_type": "code",
   "execution_count": 4,
   "metadata": {
    "collapsed": false
   },
   "outputs": [
    {
     "data": {
      "text/latex": [
       "\\begin{equation} \\alpha \\left(i\\right) = \\operatorname{atan}{\\left (2^{- i} \\right )}\\end{equation}"
      ],
      "text/plain": [
       "<IPython.core.display.Latex object>"
      ]
     },
     "execution_count": 4,
     "metadata": {},
     "output_type": "execute_result"
    }
   ],
   "source": [
    "sp.var('i')\n",
    "sp.var('n')\n",
    "\n",
    "alpha = sp.Function('alpha')\n",
    "alpha(i)\n",
    "\n",
    "alpha_ieq = sp.atan(2**(-i))\n",
    "\n",
    "equation(r'\\alpha \\left(i\\right)', alpha_ieq)"
   ]
  },
  {
   "cell_type": "markdown",
   "metadata": {},
   "source": [
    "With these angles it is possible to calculate the rotation $\\left( \\rho \\right)$ value:"
   ]
  },
  {
   "cell_type": "code",
   "execution_count": 5,
   "metadata": {
    "collapsed": false
   },
   "outputs": [
    {
     "data": {
      "text/latex": [
       "\\begin{equation} \\rho\\left(n\\right) = \\sum_{i=0}^{n - 1} \\sigma{\\left (i \\right )} \\operatorname{atan}{\\left (2^{- i} \\right )}\\end{equation}"
      ],
      "text/plain": [
       "<IPython.core.display.Latex object>"
      ]
     },
     "execution_count": 5,
     "metadata": {},
     "output_type": "execute_result"
    }
   ],
   "source": [
    "sigma = sp.Function('sigma')\n",
    "\n",
    "sigma(i)\n",
    "\n",
    "rho = sp.Function('rho')\n",
    "rho(n)\n",
    "\n",
    "rho_neq = sp.summation(sigma(i)*alpha_ieq, (i, 0, n-1))\n",
    "\n",
    "equation(r'\\rho\\left(n\\right)', rho_neq)"
   ]
  },
  {
   "cell_type": "markdown",
   "metadata": {},
   "source": [
    "Where $\\sigma \\left( i \\right)$ changes its value between +1 and -1.\n",
    "\n",
    "To ensure the convergence, the input angle must be between the converge range. This can be calculated when $\\sigma\\left(i\\right)$ is 1 and n reaches $\\infty$. It yields:"
   ]
  },
  {
   "cell_type": "code",
   "execution_count": 6,
   "metadata": {
    "collapsed": false
   },
   "outputs": [
    {
     "data": {
      "text/latex": [
       "\\begin{equation} \\rho_{ \\infty } = \\sum_{i=0}^{\\infty} \\operatorname{atan}{\\left (2^{- i} \\right )} = 1.74328662047234\\end{equation}"
      ],
      "text/plain": [
       "<IPython.core.display.Latex object>"
      ]
     },
     "execution_count": 6,
     "metadata": {},
     "output_type": "execute_result"
    }
   ],
   "source": [
    "rho_infty = rho_neq.replace(sigma(i), 1).subs(n, sp.oo).doit()\n",
    "\n",
    "equation(r'\\rho_{ \\infty } = ' + sp.latex(rho_infty), rho_infty.n())"
   ]
  },
  {
   "cell_type": "markdown",
   "metadata": {},
   "source": [
    "As a result, CORDIC can only be used between the range $-\\rho_{\\infty} \\leq \\theta \\leq \\rho_{\\infty}$. So inside the first and the fourth quadrants.\n",
    "\n",
    "The intermediate angles can be calculated using the formula $\\omega \\left({i+1}\\right) =\n",
    "\\omega \\left( i \\right) - \\sigma \\left(i\\right) \\cdot \\alpha \\left( i \\right)$. Where $\\sigma \\left( i \\right)$ will be 1 if $\\omega \\left( i \\right) \\geq 0$ and -1 otherwise. As a result, the rotation matrix is transformed into:"
   ]
  },
  {
   "cell_type": "code",
   "execution_count": 7,
   "metadata": {
    "collapsed": false
   },
   "outputs": [
    {
     "data": {
      "text/latex": [
       "\\begin{equation} R_i = \\left[\\begin{matrix}K{\\left (i \\right )} & - 2^{- i} K{\\left (i \\right )} \\sigma{\\left (i \\right )}\\\\2^{- i} K{\\left (i \\right )} \\sigma{\\left (i \\right )} & K{\\left (i \\right )}\\end{matrix}\\right]\\end{equation}"
      ],
      "text/plain": [
       "<IPython.core.display.Latex object>"
      ]
     },
     "execution_count": 7,
     "metadata": {},
     "output_type": "execute_result"
    }
   ],
   "source": [
    "K = sp.Function('K')\n",
    "K(i)\n",
    "\n",
    "R_i = (K(i) * sigma(i) * R_c.applyfunc(lambda x: x.subs(theta, alpha_ieq)) - \\\n",
    "    sp.eye(2) * (K(i)*(sigma(i) - 1))).applyfunc(lambda x: x.collect(K(i)))\n",
    "\n",
    "\n",
    "equation(r'R_i', R_i)"
   ]
  },
  {
   "cell_type": "markdown",
   "metadata": {},
   "source": [
    "Where $K_i$ is:"
   ]
  },
  {
   "cell_type": "code",
   "execution_count": 8,
   "metadata": {
    "collapsed": false
   },
   "outputs": [
    {
     "data": {
      "text/latex": [
       "\\begin{equation} K\\left(i\\right) = \\frac{1}{\\sqrt{1 + 2^{- 2 i}}}\\end{equation}"
      ],
      "text/plain": [
       "<IPython.core.display.Latex object>"
      ]
     },
     "execution_count": 8,
     "metadata": {},
     "output_type": "execute_result"
    }
   ],
   "source": [
    "K_ieq = sp.cos(alpha_ieq)\n",
    "\n",
    "equation(r'K\\left(i\\right)', K_ieq)"
   ]
  },
  {
   "cell_type": "markdown",
   "metadata": {},
   "source": [
    "Applying the Rotation matrix properly yields:"
   ]
  },
  {
   "cell_type": "code",
   "execution_count": 9,
   "metadata": {
    "collapsed": false
   },
   "outputs": [
    {
     "data": {
      "text/latex": [
       "\\begin{equation} R_{\\pi} = K \\prod_{i=0}^{n} \\left[\\begin{matrix}1 & - 2^{- i} \\sigma{\\left (i \\right )}\\\\2^{- i} \\sigma{\\left (i \\right )} & 1\\end{matrix}\\right]\\end{equation}"
      ],
      "text/plain": [
       "<IPython.core.display.Latex object>"
      ]
     },
     "execution_count": 9,
     "metadata": {},
     "output_type": "execute_result"
    }
   ],
   "source": [
    "sp.var('K')\n",
    "\n",
    "R_pieq = ((K*sp.Product((1/K(i)*R_i).applyfunc(lambda x: x.ratsimp()), (i, 0, n))))\n",
    "\n",
    "equation('R_{\\pi}', R_pieq)"
   ]
  },
  {
   "cell_type": "markdown",
   "metadata": {},
   "source": [
    "Where K is the product of the different $K\\left(i\\right)$:"
   ]
  },
  {
   "cell_type": "code",
   "execution_count": 10,
   "metadata": {
    "collapsed": false
   },
   "outputs": [
    {
     "data": {
      "text/latex": [
       "\\begin{equation} K = \\prod_{i=0}^{n} K{\\left (i \\right )} = \\prod_{i=0}^{n} \\frac{1}{\\sqrt{1 + 2^{- 2 i}}}\\end{equation}"
      ],
      "text/plain": [
       "<IPython.core.display.Latex object>"
      ]
     },
     "execution_count": 10,
     "metadata": {},
     "output_type": "execute_result"
    }
   ],
   "source": [
    "K_eq = sp.Product(K(i), (i, 0, n))\n",
    "\n",
    "K_res = K_eq.replace(K(i), K_ieq)\n",
    "\n",
    "equation(r'K = ' + sp.latex(K_eq), K_res)"
   ]
  },
  {
   "cell_type": "markdown",
   "metadata": {},
   "source": [
    "The K value can be precalculated, for example for n equal to 15, giving the result:"
   ]
  },
  {
   "cell_type": "code",
   "execution_count": 11,
   "metadata": {
    "collapsed": false
   },
   "outputs": [
    {
     "data": {
      "text/latex": [
       "\\begin{equation} K = 0.607252935103139\\end{equation}"
      ],
      "text/plain": [
       "<IPython.core.display.Latex object>"
      ]
     },
     "execution_count": 11,
     "metadata": {},
     "output_type": "execute_result"
    }
   ],
   "source": [
    "equation('K', K_res.subs(n, 15).doit().n())"
   ]
  },
  {
   "cell_type": "markdown",
   "metadata": {},
   "source": [
    "To be sure that the four quadrants are covered. A first rotation can be included, that moves them to the oposite one:"
   ]
  },
  {
   "cell_type": "code",
   "execution_count": 12,
   "metadata": {
    "collapsed": false
   },
   "outputs": [
    {
     "data": {
      "text/latex": [
       "\\begin{equation} R_{-1} = \\left[\\begin{matrix}-1 & 0\\\\0 & -1\\end{matrix}\\right]\\end{equation}"
      ],
      "text/plain": [
       "<IPython.core.display.Latex object>"
      ]
     },
     "execution_count": 12,
     "metadata": {},
     "output_type": "execute_result"
    }
   ],
   "source": [
    "R_m = sp.Matrix([[-1, 0], [0, -1]])\n",
    "\n",
    "equation('R_{-1}', R_m)"
   ]
  },
  {
   "cell_type": "markdown",
   "metadata": {},
   "source": [
    "This rotation is applied if the $\\theta$ is greatter than $\\frac{\\pi}{2}$ or less than $-\\frac{\\pi}{2}$. Of course, the rotation angle has also to be modified, to take into account it:"
   ]
  },
  {
   "cell_type": "code",
   "execution_count": 13,
   "metadata": {
    "collapsed": false
   },
   "outputs": [
    {
     "data": {
      "text/latex": [
       "\\begin{equation} \\omega_0 = \\theta - \\pi \\sigma{\\left (-1 \\right )}\\end{equation}"
      ],
      "text/plain": [
       "<IPython.core.display.Latex object>"
      ]
     },
     "execution_count": 13,
     "metadata": {},
     "output_type": "execute_result"
    }
   ],
   "source": [
    "omega = sp.Function('omega')\n",
    "\n",
    "omega(i)\n",
    "\n",
    "omega_0 = theta - sigma(-1)*sp.pi\n",
    "\n",
    "equation('\\omega_0', omega_0)"
   ]
  },
  {
   "cell_type": "markdown",
   "metadata": {},
   "source": [
    "In this case, $\\sigma\\left(-1\\right)$ will be 1 if $\\theta$ is greatter than $\\frac{\\pi}{2}$ or -1 if it is less than $-\\frac{\\pi}{2}$. The rotation is not applied if $\\theta$ is already inside the first or fourth quadrant."
   ]
  },
  {
   "cell_type": "markdown",
   "metadata": {},
   "source": [
    "# CORDIC implementation\n",
    "\n",
    "The implementation myhdl-numeric library. This library is based on the [fixed point library for vhdl](www.eda-stds.org/fphdl/Fixed_ug.pdf).\n",
    "To make the calculations, the number of bits required are:\n",
    "\n",
    "- The number of input bits (assuming it is the same as the output ones)\n",
    "- The number of bits necessary for the operations (log2(bits))\n",
    "- The guard bits to ensure a proper behaviour with the rounding\n",
    "\n",
    "Also, the angle will be in binary format, so $\\pi$ is 1 and $-\\pi$ is -1. As a result, the wrapping comming from angles comes naturally with this representation."
   ]
  },
  {
   "cell_type": "code",
   "execution_count": 14,
   "metadata": {
    "collapsed": false
   },
   "outputs": [],
   "source": [
    "import myhdl as hdl\n",
    "import math as m\n",
    "import numpy as np\n",
    "from enum import IntEnum\n",
    "\n",
    "class Modes(IntEnum):\n",
    "    rotation = 0\n",
    "    vectoring = 1\n",
    "\n",
    "def cordic(x, y, angle, mode=Modes.rotation, bits=16):\n",
    "    \"\"\" Function to calculate rotations using the CORDIC algorithm. The inputs x, y and angle\n",
    "    are assumed to be in double format, with values between [-1, 1[. The parameter bits indicates\n",
    "    the number of bits of the inputs taken into account.\"\"\"\n",
    "    \n",
    "    GUARD_BITS = hdl.fixmath().guard_bits\n",
    "    OFFSET_BITS = GUARD_BITS + m.ceil(m.log(bits, 2))\n",
    "    BITS = bits + OFFSET_BITS\n",
    "    QUARTER = hdl.sfixba(0.5, 2, -1)\n",
    "    indexes = range(0, BITS)\n",
    "    arctantab = [hdl.sfixba(m.atan(2.**-idx)/m.pi, 1, -BITS) for idx in indexes]\n",
    "    COSCALE = hdl.sfixba(float(np.prod(1./np.sqrt(1+np.power(2.,(-2*np.array(indexes)))))), 2, -BITS)\n",
    "\n",
    "    pTx = hdl.sfixba(float(x), 2, 2-BITS)\n",
    "    pTy = hdl.sfixba(float(y), 2, 2-BITS)\n",
    "    pTheta = hdl.sfixba(float(angle), 1, -BITS, hdl.fixmath(overflow=hdl.fixmath.overflows.wrap))\n",
    "\n",
    "    # Get angle between -1/2 and 1/2 angles\n",
    "    \n",
    "    if mode == Modes.rotation:\n",
    "        if pTheta < -QUARTER:\n",
    "            pTx = hdl.sfixba(-pTx, pTx)\n",
    "            pTy = hdl.sfixba(-pTy, pTy)\n",
    "\n",
    "            pTheta += (QUARTER << 1)\n",
    "        elif pTheta >= QUARTER:\n",
    "            pTx = hdl.sfixba(-pTx, pTx)\n",
    "            pTy = hdl.sfixba(-pTy, pTy)\n",
    "\n",
    "            pTheta -= (QUARTER << 1)\n",
    "    else:\n",
    "        if pTy >= 0 and pTx < 0:\n",
    "            pTx = hdl.sfixba(-pTx, pTx)\n",
    "            pTy = hdl.sfixba(-pTy, pTy)\n",
    "\n",
    "            pTheta += (QUARTER << 1)\n",
    "        elif pTy < 0 and pTx < 0:\n",
    "            pTx = hdl.sfixba(-pTx, pTx)\n",
    "            pTy = hdl.sfixba(-pTy, pTy)\n",
    "\n",
    "            pTheta -= (QUARTER << 1)\n",
    "\n",
    "    for (pCounter, atanval) in zip(indexes, arctantab):\n",
    "        if ((pTheta < 0) and (mode == Modes.rotation)) or ((pTy >= 0) and (mode == Modes.vectoring)):\n",
    "            xtemp = pTx + (pTy >> pCounter)\n",
    "            pTy = hdl.sfixba(pTy - (pTx >> pCounter), pTy)\n",
    "            pTx = hdl.sfixba(xtemp, pTx)\n",
    "                \n",
    "            pTheta += atanval\n",
    "        else:\n",
    "            xtemp = pTx - (pTy >> pCounter)\n",
    "            pTy = hdl.sfixba(pTy + (pTx >> pCounter), pTy)\n",
    "            pTx = hdl.sfixba(xtemp, pTx)\n",
    "\n",
    "            pTheta -= atanval\n",
    "\n",
    "    pCos = hdl.sfixba(pTx * COSCALE, 1, -int(bits))\n",
    "    pSin = hdl.sfixba(pTy * COSCALE, 1, -int(bits))\n",
    "        \n",
    "    return (pCos, pSin, pTheta)"
   ]
  },
  {
   "cell_type": "markdown",
   "metadata": {},
   "source": [
    "# Test\n",
    "\n",
    "We just execute the cordic algorithm, and compare the results with the ones comming from the sin and cos math functions:"
   ]
  },
  {
   "cell_type": "code",
   "execution_count": 15,
   "metadata": {
    "collapsed": false
   },
   "outputs": [
    {
     "name": "stdout",
     "output_type": "stream",
     "text": [
      "angle:  -3.141592653589793\n",
      "[-1.0, 0.0, 0.0]\n",
      "-1.0 -1.52587890625e-05\n",
      "angle:  -2.748893571891069\n",
      "[-0.9238739013671875, -0.3826904296875, 0.0]\n",
      "-0.9238739013671875 -0.3826904296875\n",
      "angle:  -2.356194490192345\n",
      "[-0.7071075439453125, -0.7071075439453125, 0.0]\n",
      "-0.7071075439453125 -0.7071075439453125\n",
      "angle:  -1.9634954084936207\n",
      "[-0.3826904296875, -0.9238739013671875, 0.0]\n",
      "-0.3826904296875 -0.9238739013671875\n",
      "angle:  -1.5707963267948966\n",
      "[0.0, -1.0, 0.0]\n",
      "0.0 -1.0\n",
      "angle:  -1.1780972450961724\n",
      "[0.3826904296875, -0.9238739013671875, 0.0]\n",
      "0.3826904296875 -0.9238739013671875\n",
      "angle:  -0.7853981633974483\n",
      "[0.7071075439453125, -0.7071075439453125, 0.0]\n",
      "0.7071075439453125 -0.7071075439453125\n",
      "angle:  -0.39269908169872414\n",
      "[0.9238739013671875, -0.3826904296875, 0.0]\n",
      "0.9238739013671875 -0.3826904296875\n",
      "angle:  0.0\n",
      "[0.9999847412109375, 0.0, 0.0]\n",
      "0.9999847412109375 0.0\n",
      "angle:  0.39269908169872414\n",
      "[0.9238739013671875, 0.3826904296875, 0.0]\n",
      "0.9238739013671875 0.3826904296875\n",
      "angle:  0.7853981633974483\n",
      "[0.7071075439453125, 0.7071075439453125, 0.0]\n",
      "0.7071075439453125 0.7071075439453125\n",
      "angle:  1.1780972450961724\n",
      "[0.3826904296875, 0.9238739013671875, 0.0]\n",
      "0.3826904296875 0.9238739013671875\n",
      "angle:  1.5707963267948966\n",
      "[0.0, 0.9999847412109375, 0.0]\n",
      "0.0 0.9999847412109375\n",
      "angle:  1.9634954084936207\n",
      "[-0.3826904296875, 0.9238739013671875, 0.0]\n",
      "-0.3826904296875 0.9238739013671875\n",
      "angle:  2.356194490192345\n",
      "[-0.7071075439453125, 0.7071075439453125, 0.0]\n",
      "-0.7071075439453125 0.7071075439453125\n",
      "angle:  2.748893571891069\n",
      "[-0.9238739013671875, 0.3826904296875, 0.0]\n",
      "-0.9238739013671875 0.3826904296875\n",
      "Total error: 1.0 [LSB]\n"
     ]
    }
   ],
   "source": [
    "bits = 16\n",
    "\n",
    "error = 0\n",
    "for x in np.arange(-1., 1., 0.125):\n",
    "    angle = hdl.sfixba(x, 2, -bits)\n",
    "    result = cordic(1.0, 0.0, angle, bits=bits)\n",
    "    print(\"angle: \", float(m.pi*float(angle)))\n",
    "    print([float(val) for val in result])\n",
    "    cos_val = hdl.sfixba(m.cos(m.pi*float(angle)), 1, -bits)\n",
    "    sin_val = hdl.sfixba(m.sin(m.pi*float(angle)), 1, -bits)\n",
    "    print(float(cos_val), float(sin_val))\n",
    "    \n",
    "    error += abs(float(cos_val-result[0])) + abs(float(sin_val-result[1]))\n",
    "\n",
    "print(\"Total error: %s [LSB]\" % (error*(2.**bits),))"
   ]
  },
  {
   "cell_type": "markdown",
   "metadata": {},
   "source": [
    "The error is 1LSB which comes from the $-\\pi$ case."
   ]
  },
  {
   "cell_type": "markdown",
   "metadata": {},
   "source": [
    "# Conclusions\n",
    "\n",
    "A CORDIC implementation has been made. The test shows an equivalent behaviour to the system trigonometric functions. The program uses the sfixba type which provides fixed point arithmetic behavior for python and myhdl."
   ]
  },
  {
   "cell_type": "markdown",
   "metadata": {},
   "source": [
    "![cc-by-sa](by-sa.pdf)"
   ]
  }
 ],
 "metadata": {
  "kernelspec": {
   "display_name": "Python 3",
   "language": "python",
   "name": "python3"
  },
  "language_info": {
   "codemirror_mode": {
    "name": "ipython",
    "version": 3
   },
   "file_extension": ".py",
   "mimetype": "text/x-python",
   "name": "python",
   "nbconvert_exporter": "python",
   "pygments_lexer": "ipython3",
   "version": "3.4.3"
  }
 },
 "nbformat": 4,
 "nbformat_minor": 0
}
